{
 "cells": [
  {
   "cell_type": "code",
   "execution_count": 15,
   "id": "7b059415",
   "metadata": {},
   "outputs": [
    {
     "name": "stdout",
     "output_type": "stream",
     "text": [
      "month: 10\n",
      "day: 03\n",
      "year: 2022\n"
     ]
    }
   ],
   "source": [
    "with open('today.txt') as f:\n",
    "    today_string = f.readlines()\n",
    "\n",
    "month = today_string[0][0:2]\n",
    "day = today_string[0][3:5]\n",
    "year = today_string[0][6:]\n",
    "\n",
    "print(f'month: {month}\\nday: {day}\\nyear: {year}')"
   ]
  },
  {
   "cell_type": "code",
   "execution_count": 46,
   "id": "7c7d4797",
   "metadata": {},
   "outputs": [],
   "source": [
    "import multiprocessing\n",
    "import os\n",
    "from datetime import datetime\n",
    "import time\n",
    "import random\n",
    "\n",
    "def time(current_time):\n",
    "    while random.randint(0, 1):\n",
    "        mins, secs = divmod(t, 60)\n",
    "        timer = '{:02d}:{:02d}'.format(mins, secs)\n",
    "        print(timer, end=\"\\r\")\n",
    "        time.sleep(1)\n",
    "        t -= 1\n",
    "        print(current_time)\n",
    "    \n",
    "    \n",
    "\n",
    "if __name__ == \"__main__\":\n",
    "    for n in range(3):\n",
    "        p = multiprocessing.Process(target=time, args=(datetime.now().strftime(\"%H:%M:%S\")))\n",
    "        p.start()"
   ]
  }
 ],
 "metadata": {
  "kernelspec": {
   "display_name": "Python 3 (ipykernel)",
   "language": "python",
   "name": "python3"
  },
  "language_info": {
   "codemirror_mode": {
    "name": "ipython",
    "version": 3
   },
   "file_extension": ".py",
   "mimetype": "text/x-python",
   "name": "python",
   "nbconvert_exporter": "python",
   "pygments_lexer": "ipython3",
   "version": "3.9.12"
  }
 },
 "nbformat": 4,
 "nbformat_minor": 5
}
